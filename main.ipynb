{
 "cells": [
  {
   "cell_type": "code",
   "execution_count": 1,
   "id": "c2dec2e6-3722-4c70-ab09-4e5ca2733b1f",
   "metadata": {},
   "outputs": [],
   "source": [
    "import pandas as pd\n",
    "import numpy as np\n",
    "from openpyxl import load_workbook\n",
    "from openpyxl.styles import PatternFill\n",
    "from openpyxl.utils import get_column_letter"
   ]
  },
  {
   "cell_type": "code",
   "execution_count": 2,
   "id": "fc5f423d-fecf-49ed-9776-f69250986fa2",
   "metadata": {
    "scrolled": true
   },
   "outputs": [],
   "source": [
    "df = pd.read_csv('CI_Report.csv', low_memory=False )"
   ]
  },
  {
   "cell_type": "code",
   "execution_count": 4,
   "id": "b73f332f-e3e2-4554-9f63-c8d75611cdb7",
   "metadata": {},
   "outputs": [],
   "source": [
    "columns_to_delete = ['Discom', 'Zone','Substation Name(Master)', 'Substation Code(Master)',\n",
    "       'Feeder Name(Master)', 'Feeder Code(Master)', 'DTR Name(Master)','DTR Name(Master)',\n",
    "        'Alternate MobileNo', 'Email ID','Old meter Current Kva CI', 'Old meter Current Kvah CI',\n",
    "       'Number of Joints In Incoming Service Cable', 'Account No', 'No Of Rejections',]"
   ]
  },
  {
   "cell_type": "code",
   "execution_count": 5,
   "id": "777ccc64-9b59-4560-b281-b66d3594b72f",
   "metadata": {},
   "outputs": [],
   "source": [
    "df.drop(columns=columns_to_delete, axis=1, inplace=True)"
   ]
  },
  {
   "cell_type": "code",
   "execution_count": 8,
   "id": "a2ee0e26-8957-478f-a3d1-2302be96e4d1",
   "metadata": {},
   "outputs": [],
   "source": [
    "new_order = ['Survey done by','CI Date','Sub Division','Status','QC Contractor Rejected Remarks','Sl No', 'Sequence No', 'Circle', 'Division', \n",
    "       'DTR Code(Master)', 'Substation Name', 'Substation Code', 'Feeder Name',\n",
    "       'Feeder Code', 'DTR Name', 'DTR Code', 'Consumer Number', 'Landmark',\n",
    "       'Consumer Name', 'Address', 'Address from field', 'Area',\n",
    "       'Mobile Number', 'Billing Type', 'Old Meter Number',\n",
    "       'Meter Number from Field',\n",
    "       'Mismatch between master and Meter Number from field', 'Category Code',\n",
    "       'Old Meter Manufacturer', 'Clear Line of Sight', 'Contracted load',\n",
    "       'Load Unit', 'Existing Meter seal Status',\n",
    "       'Existing Meter Available Status', 'JE Name',\n",
    "       'Meter Box Sealing Status', 'Meter Installed with Metallic Enclose',\n",
    "       'Meter Location', 'Meter Shifting required', 'Old Meter Status',\n",
    "       'Old meter Current Kwh CI', 'Mismatch between master and CI reading',\n",
    "       'Old Meter MF ', 'Old Meter Phase', 'Service Cable Type',\n",
    "       'Service Line Status', 'Status of Incoming  Service cable ',\n",
    "       'Sub Category Code', 'Town Name', 'Network Provider Name SIM 1',\n",
    "       'Signal Strength SIM 1', 'Signal Level SIM 1', 'Signal Category SIM 1',\n",
    "       'Network Provider Name SIM 2', 'Signal Strength SIM 2',\n",
    "       'Signal Level SIM 2', 'Signal Category SIM 2', 'Latitude', 'Longitude',\n",
    "       'Type',  'Contractor Name', 'CI Remarks',\n",
    "        'QC Contractor Approved Date', 'Approved By QC Contractor',\n",
    "       'IntelliSmart Approved Date', 'Approved By IntelliSmart',\n",
    "       'Discom Approved Date', 'Approved By Discom',\n",
    "        'QC Contractor Rejected Date',\n",
    "       'Rejected By QC Contractor', 'IntelliSmart Rejected Remarks',\n",
    "       'IntelliSmart Rejected Date', 'Rejected By IntelliSmart',\n",
    "       'Discom Rejected Remarks', 'Discom Rejected Date', 'Rejected By Discom',\n",
    "       \n",
    "]\n",
    " \n",
    "df = df[new_order]"
   ]
  },
  {
   "cell_type": "code",
   "execution_count": 10,
   "id": "1c6bdeb0-f08f-4263-9f4a-d1962a4ac30a",
   "metadata": {},
   "outputs": [],
   "source": [
    "df = df.sort_values(by='Survey done by')"
   ]
  },
  {
   "cell_type": "code",
   "execution_count": 11,
   "id": "5dada376-ed9e-4e30-a452-6c4d5003be06",
   "metadata": {},
   "outputs": [],
   "source": [
    "# Filter data for '@Resurvey'in 'Status' column\n",
    "df = df[df['Status'] == 'Pending@Resurvey']"
   ]
  },
  {
   "cell_type": "code",
   "execution_count": 12,
   "id": "7d138da6-a087-43c5-9ea1-baae2fcffc5c",
   "metadata": {},
   "outputs": [],
   "source": [
    "# Filter data for 'sdo-1' and 'sdo-2' in 'Sub Division' column\n",
    "sdo_1_data = df[df['Sub Division'] == 'EUDSD I NOIDA-SDO1410111']\n",
    "sdo_2_data = df[df['Sub Division'] == 'EUDSD-4 NOIDA-SDO1410114']"
   ]
  },
  {
   "cell_type": "code",
   "execution_count": 13,
   "id": "2eb4311b-9b8e-46a5-a2a9-501775283207",
   "metadata": {},
   "outputs": [],
   "source": [
    "# Save the filtered data to separate Excel files\n",
    "sdo_1_data.to_excel(\"Resurvey_Sub_Div-1.xlsx\", index=False)\n",
    "sdo_2_data.to_excel(\"Resurvey_Sub_Div-2.xlsx\", index=False)"
   ]
  },
  {
   "cell_type": "code",
   "execution_count": 14,
   "id": "6fa4b5cd-ea14-4588-afbf-6210e9650fdd",
   "metadata": {},
   "outputs": [],
   "source": [
    "# Step 2: Function to color header and auto-fit columns\n",
    "def style_excel(file_path):\n",
    "    wb = load_workbook(file_path)\n",
    "    ws = wb.active\n",
    "\n",
    "    # Header fill color (Yellow)\n",
    "    header_fill = PatternFill(start_color='ADD8E6', end_color='ADD8E6', fill_type='solid')\n",
    "\n",
    "    # Apply header color to the first row\n",
    "    for cell in ws[1]:  # First row is the header row\n",
    "        cell.fill = header_fill\n",
    "\n",
    "    # Auto-adjust column widths\n",
    "    for col in ws.columns:\n",
    "        max_length = 0\n",
    "        column = col[0].column_letter  # Get the column name\n",
    "        for cell in col:\n",
    "            try:\n",
    "                max_length = max(max_length, len(str(cell.value)))\n",
    "            except:\n",
    "                pass\n",
    "        adjusted_width = max_length + 2  # Add extra padding\n",
    "        ws.column_dimensions[column].width = adjusted_width\n",
    "\n",
    "    # Save the styled workbook\n",
    "    wb.save(file_path)\n",
    "\n",
    "# Step 3: Apply the function to both Excel files\n",
    "style_excel(\"Resurvey_Sub_Div-1.xlsx\")\n",
    "style_excel(\"Resurvey_Sub_Div-2.xlsx\")\n",
    "\n",
    "\n"
   ]
  }
 ],
 "metadata": {
  "kernelspec": {
   "display_name": "Python 3 (ipykernel)",
   "language": "python",
   "name": "python3"
  },
  "language_info": {
   "codemirror_mode": {
    "name": "ipython",
    "version": 3
   },
   "file_extension": ".py",
   "mimetype": "text/x-python",
   "name": "python",
   "nbconvert_exporter": "python",
   "pygments_lexer": "ipython3",
   "version": "3.12.4"
  }
 },
 "nbformat": 4,
 "nbformat_minor": 5
}
